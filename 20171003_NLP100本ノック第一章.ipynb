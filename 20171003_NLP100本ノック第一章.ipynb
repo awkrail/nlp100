{
 "cells": [
  {
   "cell_type": "markdown",
   "metadata": {},
   "source": [
    "# 10/3(火)第一章"
   ]
  },
  {
   "cell_type": "markdown",
   "metadata": {},
   "source": [
    "#### 00"
   ]
  },
  {
   "cell_type": "code",
   "execution_count": 1,
   "metadata": {
    "collapsed": false
   },
   "outputs": [
    {
     "name": "stdout",
     "output_type": "stream",
     "text": [
      "desserts\n"
     ]
    }
   ],
   "source": [
    "stressed = \"stressed\"\n",
    "print(stressed[::-1])"
   ]
  },
  {
   "cell_type": "markdown",
   "metadata": {},
   "source": [
    "#### 01"
   ]
  },
  {
   "cell_type": "code",
   "execution_count": 2,
   "metadata": {
    "collapsed": false
   },
   "outputs": [
    {
     "name": "stdout",
     "output_type": "stream",
     "text": [
      "タクシー\n"
     ]
    }
   ],
   "source": [
    "patato = \"パタトクカシーー\"\n",
    "get_string = patato[1] + patato[3] + patato[5] + patato[7]\n",
    "print(get_string)"
   ]
  },
  {
   "cell_type": "markdown",
   "metadata": {},
   "source": [
    "#### 02"
   ]
  },
  {
   "cell_type": "code",
   "execution_count": 6,
   "metadata": {
    "collapsed": false
   },
   "outputs": [
    {
     "name": "stdout",
     "output_type": "stream",
     "text": [
      "パタトクカシーー\n"
     ]
    }
   ],
   "source": [
    "patoka = \"パトカー\"\n",
    "takushi = \"タクシー\"\n",
    "patato = \"\".join([p+t for p, t in zip(patoka, takushi)])\n",
    "print(patato)"
   ]
  },
  {
   "cell_type": "markdown",
   "metadata": {},
   "source": [
    "#### 03"
   ]
  },
  {
   "cell_type": "code",
   "execution_count": 8,
   "metadata": {
    "collapsed": false
   },
   "outputs": [],
   "source": [
    "alphabets = [chr(i) for i in range(97, 97+26)]\n",
    "pistring = \"Now I need a drink, alcoholic of course, after the heavy     lectures involving quantum mechanics\"\n",
    "string_count_ary = []\n",
    "for word in pistring.split(\" \"):\n",
    "    count_ary = [0]*len(alphabets)\n",
    "    for char in word:\n",
    "        low_char = char.lower()\n",
    "        for i, alphabet in enumerate(alphabets):\n",
    "            if alphabet == low_char:\n",
    "                count_ary[i] += 1\n",
    "    string_count_ary.append(count_ary)"
   ]
  },
  {
   "cell_type": "markdown",
   "metadata": {},
   "source": [
    "#### 04"
   ]
  },
  {
   "cell_type": "code",
   "execution_count": 9,
   "metadata": {
    "collapsed": true
   },
   "outputs": [],
   "source": [
    "gensostring = \"Hi He Lied Because Boron Could Not Oxidize Fluorine. N    ew Nations Might Also Sign Peace Security Clause. Arthur King Can.\"\n",
    "one_char_index = [0, 4, 5, 6, 7, 8, 14, 15, 18]\n",
    "genshi_map = {}\n",
    "for i, gen in enumerate(gensostring.split(\" \")):\n",
    "    if i in one_char_index:\n",
    "        key = gen[0]\n",
    "    else:\n",
    "        key = gen[:2]\n",
    "    genshi_map[key] = i+1"
   ]
  },
  {
   "cell_type": "markdown",
   "metadata": {},
   "source": [
    "#### 05"
   ]
  },
  {
   "cell_type": "code",
   "execution_count": 11,
   "metadata": {
    "collapsed": false
   },
   "outputs": [
    {
     "name": "stdout",
     "output_type": "stream",
     "text": [
      "[('I', 'am'), ('am', 'an'), ('an', 'NLPer')]\n",
      "[('I', 'am', 'an'), ('am', 'an', 'NLPer')]\n"
     ]
    }
   ],
   "source": [
    "def get_bigram(string):\n",
    "    str_ary = string.split(\" \")\n",
    "    return zip(str_ary, str_ary[1:])\n",
    "\n",
    "def get_ngram(string, n):\n",
    "    str_ary = string.split(\" \")\n",
    "    return zip(*[str_ary[i:] for i in range(n)])\n",
    "\n",
    "string = \"I am an NLPer\"\n",
    "bigram = get_bigram(string)\n",
    "trigram = get_ngram(string, 3)\n",
    "print(list(bigram))\n",
    "print(list(trigram))"
   ]
  },
  {
   "cell_type": "markdown",
   "metadata": {},
   "source": [
    "#### 06"
   ]
  },
  {
   "cell_type": "code",
   "execution_count": 26,
   "metadata": {
    "collapsed": false
   },
   "outputs": [
    {
     "name": "stdout",
     "output_type": "stream",
     "text": [
      "[('p', 'a'), ('a', 'r'), ('r', 'a'), ('a', 'p'), ('p', 'a'), ('a', 'r'), ('r', 'a'), ('a', 'p'), ('p', 'a'), ('a', 'r'), ('r', 'a'), ('a', 'd'), ('d', 'i'), ('i', 's'), ('s', 'e')]\n",
      "[('p', 'a'), ('a', 'r'), ('r', 'a'), ('a', 'g'), ('g', 'r'), ('r', 'a'), ('a', 'p'), ('p', 'h')]\n",
      "[('p', 'a'), ('a', 'r'), ('r', 'a'), ('a', 'p')]\n",
      "{('s', 'e'), ('g', 'r'), ('a', 'd'), ('p', 'a'), ('p', 'h'), ('a', 'g'), ('d', 'i'), ('i', 's'), ('a', 'p'), ('a', 'r'), ('r', 'a')}\n",
      "[('a', 'g'), ('g', 'r'), ('p', 'h')]\n",
      "[('a', 'd'), ('d', 'i'), ('i', 's'), ('s', 'e')]\n",
      "se is in X\n",
      "se is not in Y\n"
     ]
    }
   ],
   "source": [
    "# 文字bigram\n",
    "def get_char_bigram(word):\n",
    "    return zip(word, word[1:])\n",
    "\n",
    "X = \"paraparaparadise\"\n",
    "Y = \"paragraph\"\n",
    "\n",
    "Xs=list(get_char_bigram(X))\n",
    "Ys=list(get_char_bigram(Y))\n",
    "\n",
    "print(Xs)\n",
    "print(Ys)\n",
    "\n",
    "# AND\n",
    "AND = []\n",
    "for X in Xs:\n",
    "    if X in AND:\n",
    "        break\n",
    "    for Y in Ys:\n",
    "        if X == Y:\n",
    "            AND.append(X)\n",
    "            break\n",
    "print(AND)\n",
    "\n",
    "# OR\n",
    "OR = set([Z for Z in Xs+Ys])\n",
    "print(OR)\n",
    "\n",
    "# Y-X\n",
    "Y_X = [Y for Y in Ys if Y not in Xs]\n",
    "print(Y_X)\n",
    "X_Y = [X for X in Xs if X not in Ys]\n",
    "print(X_Y)\n",
    "\n",
    "# seが含まれているか\n",
    "if (\"s\", \"e\") in Xs:\n",
    "    print(\"se is in X\")\n",
    "else:\n",
    "    print(\"se is not in X\")\n",
    "\n",
    "if (\"s\", \"e\") in Ys:\n",
    "    print(\"se is in Y\")\n",
    "else:\n",
    "    print(\"se is not in Y\")"
   ]
  },
  {
   "cell_type": "markdown",
   "metadata": {},
   "source": [
    "#### 07"
   ]
  },
  {
   "cell_type": "code",
   "execution_count": 27,
   "metadata": {
    "collapsed": false
   },
   "outputs": [
    {
     "data": {
      "text/plain": [
       "'12時の気温は22.4'"
      ]
     },
     "execution_count": 27,
     "metadata": {},
     "output_type": "execute_result"
    }
   ],
   "source": [
    "def make_temprature_sentence(x, y, z):\n",
    "    return str(x) + \"時の\" + str(y) + \"は\" + str(z)\n",
    "make_temprature_sentence(12, \"気温\", 22.4)"
   ]
  },
  {
   "cell_type": "markdown",
   "metadata": {},
   "source": [
    "#### 08"
   ]
  },
  {
   "cell_type": "code",
   "execution_count": 32,
   "metadata": {
    "collapsed": false
   },
   "outputs": [
    {
     "data": {
      "text/plain": [
       "'Hvool Tzrxsr Nrhsrnfiz'"
      ]
     },
     "execution_count": 32,
     "metadata": {},
     "output_type": "execute_result"
    }
   ],
   "source": [
    "def cipher(string):\n",
    "    new_string = []\n",
    "    for char in string:\n",
    "        if 97 <= ord(char) <= 122:\n",
    "            new_char = chr(219 - ord(char))\n",
    "            new_string.append(new_char)\n",
    "        else:\n",
    "            new_string.append(char)\n",
    "    return \"\".join(new_string)\n",
    "\n",
    "cipher(\"Hello Taichi Nishimura\")"
   ]
  },
  {
   "cell_type": "markdown",
   "metadata": {},
   "source": [
    "#### 09"
   ]
  },
  {
   "cell_type": "code",
   "execution_count": 42,
   "metadata": {
    "collapsed": false
   },
   "outputs": [
    {
     "data": {
      "text/plain": [
       "\"I cn'doult bveeile that I cluod acaltluy urnaestdnd what I was readnig : the pnenhemaol power of the huamn mind .\""
      ]
     },
     "execution_count": 42,
     "metadata": {},
     "output_type": "execute_result"
    }
   ],
   "source": [
    "import random\n",
    "\n",
    "def typoglycemia(string):\n",
    "    words = string.split(\" \")\n",
    "    new_words = []\n",
    "    for word in words:\n",
    "        if len(word) <= 4:\n",
    "            new_words.append(word)\n",
    "        else:\n",
    "            first = word[0]\n",
    "            end = word[-1]\n",
    "            inner = list(word[1:-1])\n",
    "            random.shuffle(inner)\n",
    "            new_words.append(first+\"\".join(inner)+end)\n",
    "    return \" \".join(new_words)\n",
    "\n",
    "string = \"I couldn't believe that I could actually understand what I was reading : the phenomenal power of the human mind .\"\n",
    "typoglycemia(string)"
   ]
  },
  {
   "cell_type": "code",
   "execution_count": null,
   "metadata": {
    "collapsed": true
   },
   "outputs": [],
   "source": []
  }
 ],
 "metadata": {
  "kernelspec": {
   "display_name": "Python [Root]",
   "language": "python",
   "name": "Python [Root]"
  },
  "language_info": {
   "codemirror_mode": {
    "name": "ipython",
    "version": 3
   },
   "file_extension": ".py",
   "mimetype": "text/x-python",
   "name": "python",
   "nbconvert_exporter": "python",
   "pygments_lexer": "ipython3",
   "version": "3.5.1"
  }
 },
 "nbformat": 4,
 "nbformat_minor": 0
}
